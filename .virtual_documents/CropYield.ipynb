








# Data manipulation and exploration
import pandas as pd

#DataViz
import matplotlib.pyplot as plt
import seaborn as sns



# getting data from crop yields of Maize from countries around the world through the years
cy = pd.read_csv('https://catalog.ourworldindata.org/explorers/agriculture/latest/crop_yields/crop_yields.csv')
print("Crop Yields around the World: \n")
cy = cy[cy['year'] >= 1961]
cy





cy.columns


# Renaming the columns from Crop Yield table
selectcolumns= ['country', 'year','rice_yield', 'maize_yield', 'soybean_yield']
cy = cy[selectcolumns]
cy = cy.rename(columns ={'country' : 'Country' , 'year': 'Year' ,'rice_yield': 'Rice', 'maize_yield': 'Maize', 'soybean_yield': 'Soybean'})
cy


# Rounding values for 2 decimal cases
roundcolumns = ['Rice',  'Maize', 'Soybean']
cy[roundcolumns] = cy[roundcolumns].round(2)
cy





cy.shape


cy.head()


cy.tail()


print("Crop Yield Information: \n")
cy.info()


# Finding out the data period
firstyear = cy['Year'].min()
lastyear = cy['Year'].max()
years = lastyear - firstyear
print("This database goes from the year of",firstyear, "until the year of", lastyear,",covering", years+1, "years")



print("Checking duplicated values:\n")
print(cy.duplicated().sum())


print("Checking how many null values:\n")
print(cy.isnull().sum())


cy.describe()


cy.plot(kind = 'box', figsize=(10,6),subplots=True)





top20_yieldrice = cy.nlargest(20,'Rice')
top20_yieldrice


top20_yieldmaize = cy.nlargest(20,'Maize')
top20_yieldmaize


top20_soybeanyield = cy.nlargest(20,'Soybean')
top20_soybeanyield





#Evaluation Brazil Crpo Yields Among the Years
cybrazilyear = cy[cy['Country'] == 'Brazil'].reset_index()
cybrazilyear


plt.figure(figsize=(10, 6))

# Ploting line graphic along the years for Brazil crops
plt.plot(cybrazilyear['Year'], cybrazilyear['Maize'], label='Maize', marker='o')
plt.plot(cybrazilyear['Year'], cybrazilyear['Soybean'], label='Soybean', marker='o')
plt.plot(cybrazilyear['Year'], cybrazilyear['Rice'], label='Rice', marker='x')

# Customizing
plt.xlabel('Year')
plt.ylabel('Value (ton/ha)')
plt.title('Crop Yield Comparison Among the Years - Brazil')
plt.legend()

# Show Graphic
plt.grid(True)
plt.tight_layout()
plt.show()


cy['Decade'] = (cy['Year']//10)*10
cy


cydecade = cy.groupby(['Decade','Country'])[['Soybean', 'Maize', 'Rice']].sum().reset_index()
cydecade


cybrazil = cydecade[cydecade['Country'] == 'Brazil'].reset_index()
cybrazil


#Comparison between decades for each crop and yield
cybrazil_melted = cybrazil.melt(id_vars='Decade', 
                                         value_vars=['Maize', 'Rice','Soybean'],
                                         var_name='Type', 
                                         value_name='Crop Yield (ton/ha)')

plt.figure(figsize=(10, 6))
sns.barplot(data=cybrazil_melted, x='Decade', y='Crop Yield (ton/ha)', hue='Type', palette = 'Paired')

#Defining Graphic Variables
plt.title('Average Crops Yield (ton/ha) - Brazil')
plt.xlabel('Decade')
plt.ylabel('Crop Yield (ton/ha)')
plt.xticks(rotation=0)
plt.legend(title='Type')
plt.grid(axis='y')

# Show Graphic
plt.tight_layout()
plt.show()


# Comparing Brazil Rice production against other Countries in Latin America
cymaize = cydecade[cydecade['Country'].isin(['Brazil','China','United States','Argentina'])].reset_index()


plt.figure(figsize=(10, 6))
sns.barplot(data=cymaize, x='Decade', y='Maize', hue='Country', palette='Paired')

#Defining Graphic Variables
plt.title('Average Maize Production (ton/ha)')
plt.xlabel('Decade')
plt.ylabel('Maize')
plt.xticks(rotation=45)
plt.legend(title='Country')
plt.grid(axis='y')

# Show Graphic
plt.tight_layout()
plt.show()


cyrice = cydecade[cydecade['Country'].isin(['Brazil','China','Bangladesh','Indonesia', 'India'])].reset_index()


plt.figure(figsize=(10, 6))
sns.barplot(data=cyrice, x='Decade', y='Rice', hue='Country', palette='Set1')

#Defining Graphic Variables
plt.title('Average Maize Production (ton/ha)')
plt.xlabel('Decade')
plt.ylabel('Rice')
plt.xticks(rotation=45)
plt.legend(title='Country')
plt.grid(axis='y')

# Show Graphic
plt.tight_layout()
plt.show()





cyFAO = cy[(cy['Country'].str.contains('(FAO)',na=False)) & (cy['Year'] == 2022)].reset_index()
cyFAO



#Create graphic
fig, ax = plt.subplots(figsize=(10, 6))

# Ploting bar columns for FAO regions and respective crops
ax.barh(cyFAO['Country'], cyFAO['Soybean'], label='Soybean', color='lightblue')
ax.barh(cyFAO['Country'], cyFAO['Maize'], left=cyFAO['Soybean'], label='Maize ', color='orange')
ax.barh(cyFAO['Country'], cyFAO['Rice'], left=cyFAO['Soybean'] + cyFAO['Maize'], label='Rice', color='green')

# Customizing graphic
ax.set_xlabel('Values (ton/ha)')
ax.set_ylabel('Country')
ax.set_title('Soybean Region Production')

# Show Graphic
plt.tight_layout()
plt.show()


cyLATAM = cydecade[(cydecade['Country'].isin(['Brazil','Argentina','Bolivia','Paraguai',
        'Ecuador','Colombia', 'Peru','Venezuela', 'South America (FAO)'])) & (cydecade['Decade']==2020)].reset_index()
cyLATAM


fig, ax = plt.subplots(figsize=(10, 6))

# Ploting bar columns for LATAM and respective crops
ax.barh(cyLATAM['Country'], cyLATAM['Soybean'], label='Soybean', color='lightblue')
ax.barh(cyLATAM['Country'], cyLATAM['Maize'], left=cyLATAM['Soybean'], label='Maize ', color='orange')
ax.barh(cyLATAM['Country'], cyLATAM['Rice'], left=cyLATAM['Soybean'] + cyLATAM['Maize'], label='Rice', color='green')

# Customizing graphic
ax.set_xlabel('Values (ton/ha)')
ax.set_ylabel('Country')
ax.set_title('Crop Production for South America in 2020 Decade')
ax.legend()

# Show graphic
plt.tight_layout()
plt.show()
